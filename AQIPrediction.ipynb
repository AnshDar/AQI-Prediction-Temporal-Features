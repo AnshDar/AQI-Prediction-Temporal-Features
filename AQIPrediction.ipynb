{
  "nbformat": 4,
  "nbformat_minor": 0,
  "metadata": {
    "colab": {
      "provenance": [],
      "include_colab_link": true
    },
    "kernelspec": {
      "name": "python3",
      "display_name": "Python 3"
    },
    "language_info": {
      "name": "python"
    }
  },
  "cells": [
    {
      "cell_type": "markdown",
      "metadata": {
        "id": "view-in-github",
        "colab_type": "text"
      },
      "source": [
        "<a href=\"https://colab.research.google.com/github/AnshDar/AQI-Prediction-Temporal-Features/blob/main/AQIPrediction.ipynb\" target=\"_parent\"><img src=\"https://colab.research.google.com/assets/colab-badge.svg\" alt=\"Open In Colab\"/></a>"
      ]
    },
    {
      "cell_type": "markdown",
      "source": [
        "Uploading dataset to colab"
      ],
      "metadata": {
        "id": "FOSl9yO9ldQe"
      }
    },
    {
      "cell_type": "code",
      "execution_count": null,
      "metadata": {
        "id": "lNZVAPDqkBiT"
      },
      "outputs": [],
      "source": [
        "# Importing libraries\n",
        "from google.colab import files\n",
        "import pandas as pd\n",
        "import numpy as np\n",
        "import glob\n",
        "from sklearn.model_selection import train_test_split\n",
        "from sklearn.tree import DecisionTreeRegressor\n",
        "from sklearn.ensemble import RandomForestRegressor\n",
        "from xgboost import XGBRegressor\n",
        "from sklearn.metrics import mean_absolute_error, mean_squared_error, r2_score\n",
        "import matplotlib.pyplot as plt\n",
        "\n",
        "pd.set_option('display.max_rows', None)\n",
        "pd.set_option('display.max_columns', None)"
      ]
    },
    {
      "cell_type": "code",
      "source": [
        "uploaded = files.upload()"
      ],
      "metadata": {
        "colab": {
          "base_uri": "https://localhost:8080/",
          "height": 455
        },
        "id": "CraqBWFKmTwY",
        "outputId": "c915d8c9-767f-4f21-bd34-07522414152e"
      },
      "execution_count": null,
      "outputs": [
        {
          "output_type": "display_data",
          "data": {
            "text/plain": [
              "<IPython.core.display.HTML object>"
            ],
            "text/html": [
              "\n",
              "     <input type=\"file\" id=\"files-3b21c27b-5ac1-416c-9898-de052b0e8cbd\" name=\"files[]\" multiple disabled\n",
              "        style=\"border:none\" />\n",
              "     <output id=\"result-3b21c27b-5ac1-416c-9898-de052b0e8cbd\">\n",
              "      Upload widget is only available when the cell has been executed in the\n",
              "      current browser session. Please rerun this cell to enable.\n",
              "      </output>\n",
              "      <script>// Copyright 2017 Google LLC\n",
              "//\n",
              "// Licensed under the Apache License, Version 2.0 (the \"License\");\n",
              "// you may not use this file except in compliance with the License.\n",
              "// You may obtain a copy of the License at\n",
              "//\n",
              "//      http://www.apache.org/licenses/LICENSE-2.0\n",
              "//\n",
              "// Unless required by applicable law or agreed to in writing, software\n",
              "// distributed under the License is distributed on an \"AS IS\" BASIS,\n",
              "// WITHOUT WARRANTIES OR CONDITIONS OF ANY KIND, either express or implied.\n",
              "// See the License for the specific language governing permissions and\n",
              "// limitations under the License.\n",
              "\n",
              "/**\n",
              " * @fileoverview Helpers for google.colab Python module.\n",
              " */\n",
              "(function(scope) {\n",
              "function span(text, styleAttributes = {}) {\n",
              "  const element = document.createElement('span');\n",
              "  element.textContent = text;\n",
              "  for (const key of Object.keys(styleAttributes)) {\n",
              "    element.style[key] = styleAttributes[key];\n",
              "  }\n",
              "  return element;\n",
              "}\n",
              "\n",
              "// Max number of bytes which will be uploaded at a time.\n",
              "const MAX_PAYLOAD_SIZE = 100 * 1024;\n",
              "\n",
              "function _uploadFiles(inputId, outputId) {\n",
              "  const steps = uploadFilesStep(inputId, outputId);\n",
              "  const outputElement = document.getElementById(outputId);\n",
              "  // Cache steps on the outputElement to make it available for the next call\n",
              "  // to uploadFilesContinue from Python.\n",
              "  outputElement.steps = steps;\n",
              "\n",
              "  return _uploadFilesContinue(outputId);\n",
              "}\n",
              "\n",
              "// This is roughly an async generator (not supported in the browser yet),\n",
              "// where there are multiple asynchronous steps and the Python side is going\n",
              "// to poll for completion of each step.\n",
              "// This uses a Promise to block the python side on completion of each step,\n",
              "// then passes the result of the previous step as the input to the next step.\n",
              "function _uploadFilesContinue(outputId) {\n",
              "  const outputElement = document.getElementById(outputId);\n",
              "  const steps = outputElement.steps;\n",
              "\n",
              "  const next = steps.next(outputElement.lastPromiseValue);\n",
              "  return Promise.resolve(next.value.promise).then((value) => {\n",
              "    // Cache the last promise value to make it available to the next\n",
              "    // step of the generator.\n",
              "    outputElement.lastPromiseValue = value;\n",
              "    return next.value.response;\n",
              "  });\n",
              "}\n",
              "\n",
              "/**\n",
              " * Generator function which is called between each async step of the upload\n",
              " * process.\n",
              " * @param {string} inputId Element ID of the input file picker element.\n",
              " * @param {string} outputId Element ID of the output display.\n",
              " * @return {!Iterable<!Object>} Iterable of next steps.\n",
              " */\n",
              "function* uploadFilesStep(inputId, outputId) {\n",
              "  const inputElement = document.getElementById(inputId);\n",
              "  inputElement.disabled = false;\n",
              "\n",
              "  const outputElement = document.getElementById(outputId);\n",
              "  outputElement.innerHTML = '';\n",
              "\n",
              "  const pickedPromise = new Promise((resolve) => {\n",
              "    inputElement.addEventListener('change', (e) => {\n",
              "      resolve(e.target.files);\n",
              "    });\n",
              "  });\n",
              "\n",
              "  const cancel = document.createElement('button');\n",
              "  inputElement.parentElement.appendChild(cancel);\n",
              "  cancel.textContent = 'Cancel upload';\n",
              "  const cancelPromise = new Promise((resolve) => {\n",
              "    cancel.onclick = () => {\n",
              "      resolve(null);\n",
              "    };\n",
              "  });\n",
              "\n",
              "  // Wait for the user to pick the files.\n",
              "  const files = yield {\n",
              "    promise: Promise.race([pickedPromise, cancelPromise]),\n",
              "    response: {\n",
              "      action: 'starting',\n",
              "    }\n",
              "  };\n",
              "\n",
              "  cancel.remove();\n",
              "\n",
              "  // Disable the input element since further picks are not allowed.\n",
              "  inputElement.disabled = true;\n",
              "\n",
              "  if (!files) {\n",
              "    return {\n",
              "      response: {\n",
              "        action: 'complete',\n",
              "      }\n",
              "    };\n",
              "  }\n",
              "\n",
              "  for (const file of files) {\n",
              "    const li = document.createElement('li');\n",
              "    li.append(span(file.name, {fontWeight: 'bold'}));\n",
              "    li.append(span(\n",
              "        `(${file.type || 'n/a'}) - ${file.size} bytes, ` +\n",
              "        `last modified: ${\n",
              "            file.lastModifiedDate ? file.lastModifiedDate.toLocaleDateString() :\n",
              "                                    'n/a'} - `));\n",
              "    const percent = span('0% done');\n",
              "    li.appendChild(percent);\n",
              "\n",
              "    outputElement.appendChild(li);\n",
              "\n",
              "    const fileDataPromise = new Promise((resolve) => {\n",
              "      const reader = new FileReader();\n",
              "      reader.onload = (e) => {\n",
              "        resolve(e.target.result);\n",
              "      };\n",
              "      reader.readAsArrayBuffer(file);\n",
              "    });\n",
              "    // Wait for the data to be ready.\n",
              "    let fileData = yield {\n",
              "      promise: fileDataPromise,\n",
              "      response: {\n",
              "        action: 'continue',\n",
              "      }\n",
              "    };\n",
              "\n",
              "    // Use a chunked sending to avoid message size limits. See b/62115660.\n",
              "    let position = 0;\n",
              "    do {\n",
              "      const length = Math.min(fileData.byteLength - position, MAX_PAYLOAD_SIZE);\n",
              "      const chunk = new Uint8Array(fileData, position, length);\n",
              "      position += length;\n",
              "\n",
              "      const base64 = btoa(String.fromCharCode.apply(null, chunk));\n",
              "      yield {\n",
              "        response: {\n",
              "          action: 'append',\n",
              "          file: file.name,\n",
              "          data: base64,\n",
              "        },\n",
              "      };\n",
              "\n",
              "      let percentDone = fileData.byteLength === 0 ?\n",
              "          100 :\n",
              "          Math.round((position / fileData.byteLength) * 100);\n",
              "      percent.textContent = `${percentDone}% done`;\n",
              "\n",
              "    } while (position < fileData.byteLength);\n",
              "  }\n",
              "\n",
              "  // All done.\n",
              "  yield {\n",
              "    response: {\n",
              "      action: 'complete',\n",
              "    }\n",
              "  };\n",
              "}\n",
              "\n",
              "scope.google = scope.google || {};\n",
              "scope.google.colab = scope.google.colab || {};\n",
              "scope.google.colab._files = {\n",
              "  _uploadFiles,\n",
              "  _uploadFilesContinue,\n",
              "};\n",
              "})(self);\n",
              "</script> "
            ]
          },
          "metadata": {}
        },
        {
          "output_type": "stream",
          "name": "stdout",
          "text": [
            "Saving PRSA_Data_Aotizhongxin_20130301-20170228.csv to PRSA_Data_Aotizhongxin_20130301-20170228.csv\n",
            "Saving PRSA_Data_Changping_20130301-20170228.csv to PRSA_Data_Changping_20130301-20170228.csv\n",
            "Saving PRSA_Data_Dingling_20130301-20170228.csv to PRSA_Data_Dingling_20130301-20170228.csv\n",
            "Saving PRSA_Data_Dongsi_20130301-20170228.csv to PRSA_Data_Dongsi_20130301-20170228.csv\n",
            "Saving PRSA_Data_Guanyuan_20130301-20170228.csv to PRSA_Data_Guanyuan_20130301-20170228.csv\n",
            "Saving PRSA_Data_Gucheng_20130301-20170228.csv to PRSA_Data_Gucheng_20130301-20170228.csv\n",
            "Saving PRSA_Data_Huairou_20130301-20170228.csv to PRSA_Data_Huairou_20130301-20170228.csv\n",
            "Saving PRSA_Data_Nongzhanguan_20130301-20170228.csv to PRSA_Data_Nongzhanguan_20130301-20170228.csv\n",
            "Saving PRSA_Data_Shunyi_20130301-20170228.csv to PRSA_Data_Shunyi_20130301-20170228.csv\n",
            "Saving PRSA_Data_Tiantan_20130301-20170228.csv to PRSA_Data_Tiantan_20130301-20170228.csv\n",
            "Saving PRSA_Data_Wanliu_20130301-20170228.csv to PRSA_Data_Wanliu_20130301-20170228.csv\n",
            "Saving PRSA_Data_Wanshouxigong_20130301-20170228.csv to PRSA_Data_Wanshouxigong_20130301-20170228.csv\n"
          ]
        }
      ]
    },
    {
      "cell_type": "code",
      "source": [
        "# ============================\n",
        "# 2. Upload and Combine CSVs\n",
        "# ============================\n",
        "uploaded = files.upload()  # upload all CSV files\n",
        "\n",
        "dfs = []\n",
        "for filename in uploaded.keys():\n",
        "    df = pd.read_csv(filename)\n",
        "    dfs.append(df)\n",
        "\n",
        "data = pd.concat(dfs, ignore_index=True)"
      ],
      "metadata": {
        "colab": {
          "base_uri": "https://localhost:8080/",
          "height": 455
        },
        "id": "blaDrDNjmYDg",
        "outputId": "7362d444-c139-4d27-a8ef-f0b57aea6f4c"
      },
      "execution_count": null,
      "outputs": [
        {
          "output_type": "display_data",
          "data": {
            "text/plain": [
              "<IPython.core.display.HTML object>"
            ],
            "text/html": [
              "\n",
              "     <input type=\"file\" id=\"files-e384daca-1747-4840-9677-8f5db13ff45d\" name=\"files[]\" multiple disabled\n",
              "        style=\"border:none\" />\n",
              "     <output id=\"result-e384daca-1747-4840-9677-8f5db13ff45d\">\n",
              "      Upload widget is only available when the cell has been executed in the\n",
              "      current browser session. Please rerun this cell to enable.\n",
              "      </output>\n",
              "      <script>// Copyright 2017 Google LLC\n",
              "//\n",
              "// Licensed under the Apache License, Version 2.0 (the \"License\");\n",
              "// you may not use this file except in compliance with the License.\n",
              "// You may obtain a copy of the License at\n",
              "//\n",
              "//      http://www.apache.org/licenses/LICENSE-2.0\n",
              "//\n",
              "// Unless required by applicable law or agreed to in writing, software\n",
              "// distributed under the License is distributed on an \"AS IS\" BASIS,\n",
              "// WITHOUT WARRANTIES OR CONDITIONS OF ANY KIND, either express or implied.\n",
              "// See the License for the specific language governing permissions and\n",
              "// limitations under the License.\n",
              "\n",
              "/**\n",
              " * @fileoverview Helpers for google.colab Python module.\n",
              " */\n",
              "(function(scope) {\n",
              "function span(text, styleAttributes = {}) {\n",
              "  const element = document.createElement('span');\n",
              "  element.textContent = text;\n",
              "  for (const key of Object.keys(styleAttributes)) {\n",
              "    element.style[key] = styleAttributes[key];\n",
              "  }\n",
              "  return element;\n",
              "}\n",
              "\n",
              "// Max number of bytes which will be uploaded at a time.\n",
              "const MAX_PAYLOAD_SIZE = 100 * 1024;\n",
              "\n",
              "function _uploadFiles(inputId, outputId) {\n",
              "  const steps = uploadFilesStep(inputId, outputId);\n",
              "  const outputElement = document.getElementById(outputId);\n",
              "  // Cache steps on the outputElement to make it available for the next call\n",
              "  // to uploadFilesContinue from Python.\n",
              "  outputElement.steps = steps;\n",
              "\n",
              "  return _uploadFilesContinue(outputId);\n",
              "}\n",
              "\n",
              "// This is roughly an async generator (not supported in the browser yet),\n",
              "// where there are multiple asynchronous steps and the Python side is going\n",
              "// to poll for completion of each step.\n",
              "// This uses a Promise to block the python side on completion of each step,\n",
              "// then passes the result of the previous step as the input to the next step.\n",
              "function _uploadFilesContinue(outputId) {\n",
              "  const outputElement = document.getElementById(outputId);\n",
              "  const steps = outputElement.steps;\n",
              "\n",
              "  const next = steps.next(outputElement.lastPromiseValue);\n",
              "  return Promise.resolve(next.value.promise).then((value) => {\n",
              "    // Cache the last promise value to make it available to the next\n",
              "    // step of the generator.\n",
              "    outputElement.lastPromiseValue = value;\n",
              "    return next.value.response;\n",
              "  });\n",
              "}\n",
              "\n",
              "/**\n",
              " * Generator function which is called between each async step of the upload\n",
              " * process.\n",
              " * @param {string} inputId Element ID of the input file picker element.\n",
              " * @param {string} outputId Element ID of the output display.\n",
              " * @return {!Iterable<!Object>} Iterable of next steps.\n",
              " */\n",
              "function* uploadFilesStep(inputId, outputId) {\n",
              "  const inputElement = document.getElementById(inputId);\n",
              "  inputElement.disabled = false;\n",
              "\n",
              "  const outputElement = document.getElementById(outputId);\n",
              "  outputElement.innerHTML = '';\n",
              "\n",
              "  const pickedPromise = new Promise((resolve) => {\n",
              "    inputElement.addEventListener('change', (e) => {\n",
              "      resolve(e.target.files);\n",
              "    });\n",
              "  });\n",
              "\n",
              "  const cancel = document.createElement('button');\n",
              "  inputElement.parentElement.appendChild(cancel);\n",
              "  cancel.textContent = 'Cancel upload';\n",
              "  const cancelPromise = new Promise((resolve) => {\n",
              "    cancel.onclick = () => {\n",
              "      resolve(null);\n",
              "    };\n",
              "  });\n",
              "\n",
              "  // Wait for the user to pick the files.\n",
              "  const files = yield {\n",
              "    promise: Promise.race([pickedPromise, cancelPromise]),\n",
              "    response: {\n",
              "      action: 'starting',\n",
              "    }\n",
              "  };\n",
              "\n",
              "  cancel.remove();\n",
              "\n",
              "  // Disable the input element since further picks are not allowed.\n",
              "  inputElement.disabled = true;\n",
              "\n",
              "  if (!files) {\n",
              "    return {\n",
              "      response: {\n",
              "        action: 'complete',\n",
              "      }\n",
              "    };\n",
              "  }\n",
              "\n",
              "  for (const file of files) {\n",
              "    const li = document.createElement('li');\n",
              "    li.append(span(file.name, {fontWeight: 'bold'}));\n",
              "    li.append(span(\n",
              "        `(${file.type || 'n/a'}) - ${file.size} bytes, ` +\n",
              "        `last modified: ${\n",
              "            file.lastModifiedDate ? file.lastModifiedDate.toLocaleDateString() :\n",
              "                                    'n/a'} - `));\n",
              "    const percent = span('0% done');\n",
              "    li.appendChild(percent);\n",
              "\n",
              "    outputElement.appendChild(li);\n",
              "\n",
              "    const fileDataPromise = new Promise((resolve) => {\n",
              "      const reader = new FileReader();\n",
              "      reader.onload = (e) => {\n",
              "        resolve(e.target.result);\n",
              "      };\n",
              "      reader.readAsArrayBuffer(file);\n",
              "    });\n",
              "    // Wait for the data to be ready.\n",
              "    let fileData = yield {\n",
              "      promise: fileDataPromise,\n",
              "      response: {\n",
              "        action: 'continue',\n",
              "      }\n",
              "    };\n",
              "\n",
              "    // Use a chunked sending to avoid message size limits. See b/62115660.\n",
              "    let position = 0;\n",
              "    do {\n",
              "      const length = Math.min(fileData.byteLength - position, MAX_PAYLOAD_SIZE);\n",
              "      const chunk = new Uint8Array(fileData, position, length);\n",
              "      position += length;\n",
              "\n",
              "      const base64 = btoa(String.fromCharCode.apply(null, chunk));\n",
              "      yield {\n",
              "        response: {\n",
              "          action: 'append',\n",
              "          file: file.name,\n",
              "          data: base64,\n",
              "        },\n",
              "      };\n",
              "\n",
              "      let percentDone = fileData.byteLength === 0 ?\n",
              "          100 :\n",
              "          Math.round((position / fileData.byteLength) * 100);\n",
              "      percent.textContent = `${percentDone}% done`;\n",
              "\n",
              "    } while (position < fileData.byteLength);\n",
              "  }\n",
              "\n",
              "  // All done.\n",
              "  yield {\n",
              "    response: {\n",
              "      action: 'complete',\n",
              "    }\n",
              "  };\n",
              "}\n",
              "\n",
              "scope.google = scope.google || {};\n",
              "scope.google.colab = scope.google.colab || {};\n",
              "scope.google.colab._files = {\n",
              "  _uploadFiles,\n",
              "  _uploadFilesContinue,\n",
              "};\n",
              "})(self);\n",
              "</script> "
            ]
          },
          "metadata": {}
        },
        {
          "output_type": "stream",
          "name": "stdout",
          "text": [
            "Saving PRSA_Data_Aotizhongxin_20130301-20170228.csv to PRSA_Data_Aotizhongxin_20130301-20170228 (1).csv\n",
            "Saving PRSA_Data_Changping_20130301-20170228.csv to PRSA_Data_Changping_20130301-20170228 (1).csv\n",
            "Saving PRSA_Data_Dingling_20130301-20170228.csv to PRSA_Data_Dingling_20130301-20170228 (1).csv\n",
            "Saving PRSA_Data_Dongsi_20130301-20170228.csv to PRSA_Data_Dongsi_20130301-20170228 (1).csv\n",
            "Saving PRSA_Data_Guanyuan_20130301-20170228.csv to PRSA_Data_Guanyuan_20130301-20170228 (1).csv\n",
            "Saving PRSA_Data_Gucheng_20130301-20170228.csv to PRSA_Data_Gucheng_20130301-20170228 (1).csv\n",
            "Saving PRSA_Data_Huairou_20130301-20170228.csv to PRSA_Data_Huairou_20130301-20170228 (1).csv\n",
            "Saving PRSA_Data_Nongzhanguan_20130301-20170228.csv to PRSA_Data_Nongzhanguan_20130301-20170228 (1).csv\n",
            "Saving PRSA_Data_Shunyi_20130301-20170228.csv to PRSA_Data_Shunyi_20130301-20170228 (1).csv\n",
            "Saving PRSA_Data_Tiantan_20130301-20170228.csv to PRSA_Data_Tiantan_20130301-20170228 (1).csv\n",
            "Saving PRSA_Data_Wanliu_20130301-20170228.csv to PRSA_Data_Wanliu_20130301-20170228 (1).csv\n",
            "Saving PRSA_Data_Wanshouxigong_20130301-20170228.csv to PRSA_Data_Wanshouxigong_20130301-20170228 (1).csv\n"
          ]
        }
      ]
    },
    {
      "cell_type": "markdown",
      "source": [
        "Cleaning Data"
      ],
      "metadata": {
        "id": "kkI2CDDkqCRW"
      }
    },
    {
      "cell_type": "code",
      "source": [
        "# ============================\n",
        "# 3. Fill Missing Values\n",
        "# ============================\n",
        "data.fillna(0, inplace=True)\n",
        "\n",
        "# ============================\n",
        "# 4. Create datetime index\n",
        "# ============================\n",
        "data[\"datetime\"] = pd.to_datetime(dict(year=data.year, month=data.month, day=data.day, hour=data.hour))\n",
        "data = data.set_index(\"datetime\").sort_index()\n",
        "\n",
        "# Drop unused column if exists\n",
        "data = data.drop([\"No\"], axis=1, errors=\"ignore\")\n"
      ],
      "metadata": {
        "id": "Z3eKopPvoApf"
      },
      "execution_count": null,
      "outputs": []
    },
    {
      "cell_type": "markdown",
      "source": [
        "Adding Temporal Features"
      ],
      "metadata": {
        "id": "FiQdBArkzoPs"
      }
    },
    {
      "cell_type": "code",
      "source": [
        "# ============================\n",
        "# 5. Feature Engineering\n",
        "# ============================\n",
        "def add_features(df):\n",
        "    for col in [\"PM2.5\", \"PM10\", \"SO2\", \"NO2\", \"CO\", \"O3\", \"TEMP\", \"PRES\", \"DEWP\", \"WSPM\"]:\n",
        "        if col not in df.columns:\n",
        "            continue\n",
        "        # Lag features\n",
        "        for lag in [1, 3, 6, 12, 24]:\n",
        "            df[f\"{col}_lag{lag}\"] = df[col].shift(lag)\n",
        "\n",
        "        # Moving averages\n",
        "        for win in [3, 6, 12, 24, 48, 168]:\n",
        "            df[f\"{col}_ma{win}\"] = df[col].rolling(win).mean()\n",
        "\n",
        "    # Cyclical encodings\n",
        "    df[\"hour_sin\"] = np.sin(2 * np.pi * df.index.hour / 24)\n",
        "    df[\"hour_cos\"] = np.cos(2 * np.pi * df.index.hour / 24)\n",
        "    df[\"month_sin\"] = np.sin(2 * np.pi * df.index.month / 12)\n",
        "    df[\"month_cos\"] = np.cos(2 * np.pi * df.index.month / 12)\n",
        "\n",
        "    return df\n",
        "\n",
        "data = add_features(data)\n",
        "data = data.dropna()  # drop rows with NaN after lag/MA"
      ],
      "metadata": {
        "id": "0QmYrpKDznH_",
        "colab": {
          "base_uri": "https://localhost:8080/"
        },
        "outputId": "78d694bc-8ba4-4d8a-c7be-9d2a4cdd05a9"
      },
      "execution_count": null,
      "outputs": [
        {
          "output_type": "stream",
          "name": "stderr",
          "text": [
            "/tmp/ipython-input-1606175635.py:14: PerformanceWarning: DataFrame is highly fragmented.  This is usually the result of calling `frame.insert` many times, which has poor performance.  Consider joining all columns at once using pd.concat(axis=1) instead. To get a de-fragmented frame, use `newframe = frame.copy()`\n",
            "  df[f\"{col}_ma{win}\"] = df[col].rolling(win).mean()\n",
            "/tmp/ipython-input-1606175635.py:14: PerformanceWarning: DataFrame is highly fragmented.  This is usually the result of calling `frame.insert` many times, which has poor performance.  Consider joining all columns at once using pd.concat(axis=1) instead. To get a de-fragmented frame, use `newframe = frame.copy()`\n",
            "  df[f\"{col}_ma{win}\"] = df[col].rolling(win).mean()\n",
            "/tmp/ipython-input-1606175635.py:14: PerformanceWarning: DataFrame is highly fragmented.  This is usually the result of calling `frame.insert` many times, which has poor performance.  Consider joining all columns at once using pd.concat(axis=1) instead. To get a de-fragmented frame, use `newframe = frame.copy()`\n",
            "  df[f\"{col}_ma{win}\"] = df[col].rolling(win).mean()\n",
            "/tmp/ipython-input-1606175635.py:14: PerformanceWarning: DataFrame is highly fragmented.  This is usually the result of calling `frame.insert` many times, which has poor performance.  Consider joining all columns at once using pd.concat(axis=1) instead. To get a de-fragmented frame, use `newframe = frame.copy()`\n",
            "  df[f\"{col}_ma{win}\"] = df[col].rolling(win).mean()\n",
            "/tmp/ipython-input-1606175635.py:10: PerformanceWarning: DataFrame is highly fragmented.  This is usually the result of calling `frame.insert` many times, which has poor performance.  Consider joining all columns at once using pd.concat(axis=1) instead. To get a de-fragmented frame, use `newframe = frame.copy()`\n",
            "  df[f\"{col}_lag{lag}\"] = df[col].shift(lag)\n",
            "/tmp/ipython-input-1606175635.py:10: PerformanceWarning: DataFrame is highly fragmented.  This is usually the result of calling `frame.insert` many times, which has poor performance.  Consider joining all columns at once using pd.concat(axis=1) instead. To get a de-fragmented frame, use `newframe = frame.copy()`\n",
            "  df[f\"{col}_lag{lag}\"] = df[col].shift(lag)\n",
            "/tmp/ipython-input-1606175635.py:10: PerformanceWarning: DataFrame is highly fragmented.  This is usually the result of calling `frame.insert` many times, which has poor performance.  Consider joining all columns at once using pd.concat(axis=1) instead. To get a de-fragmented frame, use `newframe = frame.copy()`\n",
            "  df[f\"{col}_lag{lag}\"] = df[col].shift(lag)\n",
            "/tmp/ipython-input-1606175635.py:10: PerformanceWarning: DataFrame is highly fragmented.  This is usually the result of calling `frame.insert` many times, which has poor performance.  Consider joining all columns at once using pd.concat(axis=1) instead. To get a de-fragmented frame, use `newframe = frame.copy()`\n",
            "  df[f\"{col}_lag{lag}\"] = df[col].shift(lag)\n",
            "/tmp/ipython-input-1606175635.py:10: PerformanceWarning: DataFrame is highly fragmented.  This is usually the result of calling `frame.insert` many times, which has poor performance.  Consider joining all columns at once using pd.concat(axis=1) instead. To get a de-fragmented frame, use `newframe = frame.copy()`\n",
            "  df[f\"{col}_lag{lag}\"] = df[col].shift(lag)\n",
            "/tmp/ipython-input-1606175635.py:14: PerformanceWarning: DataFrame is highly fragmented.  This is usually the result of calling `frame.insert` many times, which has poor performance.  Consider joining all columns at once using pd.concat(axis=1) instead. To get a de-fragmented frame, use `newframe = frame.copy()`\n",
            "  df[f\"{col}_ma{win}\"] = df[col].rolling(win).mean()\n",
            "/tmp/ipython-input-1606175635.py:14: PerformanceWarning: DataFrame is highly fragmented.  This is usually the result of calling `frame.insert` many times, which has poor performance.  Consider joining all columns at once using pd.concat(axis=1) instead. To get a de-fragmented frame, use `newframe = frame.copy()`\n",
            "  df[f\"{col}_ma{win}\"] = df[col].rolling(win).mean()\n",
            "/tmp/ipython-input-1606175635.py:14: PerformanceWarning: DataFrame is highly fragmented.  This is usually the result of calling `frame.insert` many times, which has poor performance.  Consider joining all columns at once using pd.concat(axis=1) instead. To get a de-fragmented frame, use `newframe = frame.copy()`\n",
            "  df[f\"{col}_ma{win}\"] = df[col].rolling(win).mean()\n",
            "/tmp/ipython-input-1606175635.py:14: PerformanceWarning: DataFrame is highly fragmented.  This is usually the result of calling `frame.insert` many times, which has poor performance.  Consider joining all columns at once using pd.concat(axis=1) instead. To get a de-fragmented frame, use `newframe = frame.copy()`\n",
            "  df[f\"{col}_ma{win}\"] = df[col].rolling(win).mean()\n",
            "/tmp/ipython-input-1606175635.py:14: PerformanceWarning: DataFrame is highly fragmented.  This is usually the result of calling `frame.insert` many times, which has poor performance.  Consider joining all columns at once using pd.concat(axis=1) instead. To get a de-fragmented frame, use `newframe = frame.copy()`\n",
            "  df[f\"{col}_ma{win}\"] = df[col].rolling(win).mean()\n",
            "/tmp/ipython-input-1606175635.py:14: PerformanceWarning: DataFrame is highly fragmented.  This is usually the result of calling `frame.insert` many times, which has poor performance.  Consider joining all columns at once using pd.concat(axis=1) instead. To get a de-fragmented frame, use `newframe = frame.copy()`\n",
            "  df[f\"{col}_ma{win}\"] = df[col].rolling(win).mean()\n",
            "/tmp/ipython-input-1606175635.py:17: PerformanceWarning: DataFrame is highly fragmented.  This is usually the result of calling `frame.insert` many times, which has poor performance.  Consider joining all columns at once using pd.concat(axis=1) instead. To get a de-fragmented frame, use `newframe = frame.copy()`\n",
            "  df[\"hour_sin\"] = np.sin(2 * np.pi * df.index.hour / 24)\n",
            "/tmp/ipython-input-1606175635.py:18: PerformanceWarning: DataFrame is highly fragmented.  This is usually the result of calling `frame.insert` many times, which has poor performance.  Consider joining all columns at once using pd.concat(axis=1) instead. To get a de-fragmented frame, use `newframe = frame.copy()`\n",
            "  df[\"hour_cos\"] = np.cos(2 * np.pi * df.index.hour / 24)\n",
            "/tmp/ipython-input-1606175635.py:19: PerformanceWarning: DataFrame is highly fragmented.  This is usually the result of calling `frame.insert` many times, which has poor performance.  Consider joining all columns at once using pd.concat(axis=1) instead. To get a de-fragmented frame, use `newframe = frame.copy()`\n",
            "  df[\"month_sin\"] = np.sin(2 * np.pi * df.index.month / 12)\n",
            "/tmp/ipython-input-1606175635.py:20: PerformanceWarning: DataFrame is highly fragmented.  This is usually the result of calling `frame.insert` many times, which has poor performance.  Consider joining all columns at once using pd.concat(axis=1) instead. To get a de-fragmented frame, use `newframe = frame.copy()`\n",
            "  df[\"month_cos\"] = np.cos(2 * np.pi * df.index.month / 12)\n"
          ]
        }
      ]
    },
    {
      "cell_type": "markdown",
      "source": [
        "Encode Categorical Columns"
      ],
      "metadata": {
        "id": "J9n9RoSeWfY-"
      }
    },
    {
      "cell_type": "code",
      "source": [
        "# ============================\n",
        "# 6. Encode Categorical Columns\n",
        "# ============================\n",
        "categorical_cols = ['wd', 'station']\n",
        "data = pd.get_dummies(data, columns=categorical_cols, drop_first=True)"
      ],
      "metadata": {
        "id": "3oMS7l6IWgcb"
      },
      "execution_count": null,
      "outputs": []
    },
    {
      "cell_type": "markdown",
      "source": [
        "Time Series Split"
      ],
      "metadata": {
        "id": "Bpc6_1BDOcKi"
      }
    },
    {
      "cell_type": "code",
      "source": [
        "# ============================\n",
        "# 7. Time Series Split Function\n",
        "# ============================\n",
        "def time_series_split(df, target_col=\"PM2.5\", test_size=0.2):\n",
        "    df = df.dropna()\n",
        "    split_idx = int(len(df) * (1 - test_size))\n",
        "    train, test = df.iloc[:split_idx], df.iloc[split_idx:]\n",
        "\n",
        "    X_train = train.drop(columns=[target_col])\n",
        "    y_train = train[target_col]\n",
        "    X_test = test.drop(columns=[target_col])\n",
        "    y_test = test[target_col]\n",
        "\n",
        "    return X_train, X_test, y_train, y_test\n",
        "\n",
        "X_train, X_test, y_train, y_test = time_series_split(data, target_col=\"PM2.5\")\n",
        "\n",
        "print(\"Train shape:\", X_train.shape)\n",
        "print(\"Test shape:\", X_test.shape)"
      ],
      "metadata": {
        "colab": {
          "base_uri": "https://localhost:8080/"
        },
        "id": "QSQA7umEOfbb",
        "outputId": "20720479-772d-4722-a171-47e2add033b2"
      },
      "execution_count": null,
      "outputs": [
        {
          "output_type": "stream",
          "name": "stdout",
          "text": [
            "Train shape: (336480, 155)\n",
            "Test shape: (84121, 155)\n"
          ]
        }
      ]
    },
    {
      "cell_type": "markdown",
      "source": [
        "Function to Evaluate a Model"
      ],
      "metadata": {
        "id": "C3WA8UNaPH4i"
      }
    },
    {
      "cell_type": "code",
      "source": [
        "# ============================\n",
        "# 8. Function to Evaluate a Model\n",
        "# ============================\n",
        "def evaluate_model(model, X_train, X_test, y_train, y_test, model_name):\n",
        "    model.fit(X_train, y_train)\n",
        "    y_pred = model.predict(X_test)\n",
        "\n",
        "    r2 = r2_score(y_test, y_pred)\n",
        "    mae = mean_absolute_error(y_test, y_pred)\n",
        "    rmse = np.sqrt(mean_squared_error(y_test, y_pred))\n",
        "\n",
        "    print(f\"\\n=== {model_name} Results ===\")\n",
        "    print(f\"R² Score: {r2:.4f}\")\n",
        "    print(f\"Mean Absolute Error (MAE): {mae:.4f}\")\n",
        "    print(f\"Root Mean Squared Error (RMSE): {rmse:.4f}\")\n",
        "\n",
        "    # Feature Importance (if available)\n",
        "    if hasattr(model, \"feature_importances_\"):\n",
        "        importance = pd.DataFrame({\n",
        "            \"Feature\": X_train.columns,\n",
        "            \"Importance\": model.feature_importances_\n",
        "        }).sort_values(by=\"Importance\", ascending=False)\n",
        "        print(\"\\nTop 15 Feature Importances:\")\n",
        "        print(importance.head(15))\n",
        "\n",
        "        # Plot top 15\n",
        "        plt.figure(figsize=(10,6))\n",
        "        plt.barh(importance[\"Feature\"].head(15)[::-1], importance[\"Importance\"].head(15)[::-1])\n",
        "        plt.title(f\"{model_name} - Feature Importance\")\n",
        "        plt.show()"
      ],
      "metadata": {
        "id": "ZcQKEk8NPI2j"
      },
      "execution_count": null,
      "outputs": []
    },
    {
      "cell_type": "code",
      "source": [
        "print(data.dtypes)"
      ],
      "metadata": {
        "colab": {
          "base_uri": "https://localhost:8080/"
        },
        "id": "RbgGaspDRCSh",
        "outputId": "c8f9ed8f-0f01-4664-a0de-f71f58529eb9"
      },
      "execution_count": null,
      "outputs": [
        {
          "output_type": "stream",
          "name": "stdout",
          "text": [
            "year            int64\n",
            "month           int64\n",
            "day             int64\n",
            "hour            int64\n",
            "PM2.5         float64\n",
            "               ...   \n",
            "WSPM_ma168    float64\n",
            "hour_sin      float64\n",
            "hour_cos      float64\n",
            "month_sin     float64\n",
            "month_cos     float64\n",
            "Length: 131, dtype: object\n"
          ]
        }
      ]
    },
    {
      "cell_type": "markdown",
      "source": [
        "Train Each Model Individually - Decision Tree"
      ],
      "metadata": {
        "id": "llNa47ZBaqSW"
      }
    },
    {
      "cell_type": "code",
      "source": [
        "# Decision Tree\n",
        "dt_model = DecisionTreeRegressor(random_state=42)\n",
        "evaluate_model(dt_model, X_train, X_test, y_train, y_test, \"Decision Tree\")"
      ],
      "metadata": {
        "colab": {
          "base_uri": "https://localhost:8080/",
          "height": 944
        },
        "id": "LhZQLTTTawTd",
        "outputId": "41b7c006-e9e6-4612-be9f-ec77074d19cb"
      },
      "execution_count": null,
      "outputs": [
        {
          "output_type": "stream",
          "name": "stdout",
          "text": [
            "\n",
            "=== Decision Tree Results ===\n",
            "R² Score: 0.9473\n",
            "Mean Absolute Error (MAE): 9.0329\n",
            "Root Mean Squared Error (RMSE): 19.1310\n",
            "\n",
            "Top 15 Feature Importances:\n",
            "        Feature  Importance\n",
            "19    PM2.5_ma3    0.854430\n",
            "4          PM10    0.097480\n",
            "30     PM10_ma3    0.010099\n",
            "14   PM2.5_lag1    0.008309\n",
            "7            CO    0.001310\n",
            "20    PM2.5_ma6    0.001162\n",
            "6           NO2    0.000995\n",
            "22   PM2.5_ma24    0.000796\n",
            "21   PM2.5_ma12    0.000766\n",
            "23   PM2.5_ma48    0.000732\n",
            "36     SO2_lag1    0.000686\n",
            "44     SO2_ma24    0.000661\n",
            "24  PM2.5_ma168    0.000601\n",
            "25    PM10_lag1    0.000596\n",
            "17  PM2.5_lag12    0.000586\n"
          ]
        },
        {
          "output_type": "display_data",
          "data": {
            "text/plain": [
              "<Figure size 1000x600 with 1 Axes>"
            ],
            "image/png": "[encoded data removed]"
          },
          "metadata": {}
        }
      ]
    },
    {
      "cell_type": "markdown",
      "source": [
        "Train Each Model Individually - Random Forest"
      ],
      "metadata": {
        "id": "7mWwK4xkbXip"
      }
    },
    {
      "cell_type": "markdown",
      "source": [
        "Train Each Model Individually - XGBoost"
      ],
      "metadata": {
        "id": "RjgrMqHJ3TiH"
      }
    },
    {
      "cell_type": "code",
      "source": [
        "xgb_model = XGBRegressor(\n",
        "n_estimators=200,\n",
        "learning_rate=0.1,\n",
        "max_depth=6,\n",
        "subsample=0.8,\n",
        "colsample_bytree=0.8,\n",
        "random_state=42,\n",
        "predictor='gpu_predictor',\n",
        "n_jobs=-1\n",
        ")\n",
        "evaluate_model(xgb_model, X_train, X_test, y_train, y_test, \"XGBoost (GPU)\")\n"
      ],
      "metadata": {
        "colab": {
          "base_uri": "https://localhost:8080/",
          "height": 1000
        },
        "id": "tvmj9g8N3XVW",
        "outputId": "9bfc91f3-1b59-44aa-d24d-cf37512d9501"
      },
      "execution_count": null,
      "outputs": [
        {
          "output_type": "stream",
          "name": "stderr",
          "text": [
            "/usr/local/lib/python3.12/dist-packages/xgboost/training.py:183: UserWarning: [16:46:11] WARNING: /workspace/src/learner.cc:738: \n",
            "Parameters: { \"predictor\" } are not used.\n",
            "\n",
            "  bst.update(dtrain, iteration=i, fobj=obj)\n"
          ]
        },
        {
          "output_type": "stream",
          "name": "stdout",
          "text": [
            "\n",
            "=== XGBoost (GPU) Results ===\n",
            "R² Score: 0.9778\n",
            "Mean Absolute Error (MAE): 6.1995\n",
            "Root Mean Squared Error (RMSE): 12.4178\n",
            "\n",
            "Top 15 Feature Importances:\n",
            "        Feature  Importance\n",
            "20    PM2.5_ma6    0.417793\n",
            "19    PM2.5_ma3    0.307607\n",
            "4          PM10    0.053971\n",
            "21   PM2.5_ma12    0.032192\n",
            "109   DEWP_ma12    0.007320\n",
            "123  WSPM_ma168    0.006910\n",
            "7            CO    0.006284\n",
            "14   PM2.5_lag1    0.004891\n",
            "30     PM10_ma3    0.004628\n",
            "38     SO2_lag6    0.004382\n",
            "22   PM2.5_ma24    0.003970\n",
            "23   PM2.5_ma48    0.003570\n",
            "127   month_cos    0.003482\n",
            "81    TEMP_lag3    0.003393\n",
            "31     PM10_ma6    0.003380\n"
          ]
        },
        {
          "output_type": "display_data",
          "data": {
            "text/plain": [
              "<Figure size 1000x600 with 1 Axes>"
            ],
            "image/png": "[encoded data removed]"
          },
          "metadata": {}
        }
      ]
    },
    {
      "cell_type": "code",
      "source": [
        "rf_model = RandomForestRegressor(n_estimators=100, random_state=42, n_jobs=-1)\n",
        "evaluate_model(rf_model, X_train, X_test, y_train, y_test, \"Random Forest\")"
      ],
      "metadata": {
        "colab": {
          "base_uri": "https://localhost:8080/",
          "height": 944
        },
        "id": "afEp8fQNbabB",
        "outputId": "79dbf333-6212-4af3-e7be-5534d57b848c"
      },
      "execution_count": null,
      "outputs": [
        {
          "output_type": "stream",
          "name": "stdout",
          "text": [
            "\n",
            "=== Random Forest Results ===\n",
            "R² Score: 0.9761\n",
            "Mean Absolute Error (MAE): 5.8104\n",
            "Root Mean Squared Error (RMSE): 12.8882\n",
            "\n",
            "Top 15 Feature Importances:\n",
            "        Feature  Importance\n",
            "19    PM2.5_ma3    0.853374\n",
            "4          PM10    0.097043\n",
            "30     PM10_ma3    0.009354\n",
            "14   PM2.5_lag1    0.008339\n",
            "20    PM2.5_ma6    0.001394\n",
            "7            CO    0.001332\n",
            "21   PM2.5_ma12    0.001023\n",
            "22   PM2.5_ma24    0.000843\n",
            "23   PM2.5_ma48    0.000662\n",
            "6           NO2    0.000661\n",
            "43     SO2_ma12    0.000658\n",
            "25    PM10_lag1    0.000624\n",
            "5           SO2    0.000621\n",
            "17  PM2.5_lag12    0.000605\n",
            "24  PM2.5_ma168    0.000545\n"
          ]
        },
        {
          "output_type": "display_data",
          "data": {
            "text/plain": [
              "<Figure size 1000x600 with 1 Axes>"
            ],
            "image/png": "[encoded data removed]"
          },
          "metadata": {}
        }
      ]
    },
    {
      "cell_type": "code",
      "source": [
        "pd.set_option('display.max_rows', None)\n",
        "pd.set_option('display.max_columns', None)\n",
        "print(data.head(3))"
      ],
      "metadata": {
        "colab": {
          "base_uri": "https://localhost:8080/"
        },
        "id": "Xu4h606QRpSk",
        "outputId": "94ba4429-0c8a-4e6e-d89b-290221c73e79"
      },
      "execution_count": null,
      "outputs": [
        {
          "output_type": "stream",
          "name": "stdout",
          "text": [
            "                     year  month  day  hour  PM2.5  PM10  SO2   NO2     CO  \\\n",
            "datetime                                                                     \n",
            "2013-03-01 13:00:00  2013      3    1    13    3.0   6.0  7.0  12.0  400.0   \n",
            "2013-03-01 14:00:00  2013      3    1    14    6.0   7.0  3.0  22.0  200.0   \n",
            "2013-03-01 14:00:00  2013      3    1    14    3.0  14.0  7.0   8.0  300.0   \n",
            "\n",
            "                       O3  TEMP    PRES  DEWP  RAIN  wd  WSPM        station  \\\n",
            "datetime                                                                       \n",
            "2013-03-01 13:00:00  76.0   5.3  1026.2 -19.3   0.0  NW   4.3   Aotizhongxin   \n",
            "2013-03-01 14:00:00  89.0   5.9  1022.6 -20.5   0.0   N   3.6       Dingling   \n",
            "2013-03-01 14:00:00  72.0   6.6  1024.9 -19.9   0.0  NW   2.1  Wanshouxigong   \n",
            "\n",
            "                     PM2.5_lag1  PM2.5_lag3  PM2.5_lag6  PM2.5_lag12  \\\n",
            "datetime                                                               \n",
            "2013-03-01 13:00:00        10.0        10.0         3.0          3.0   \n",
            "2013-03-01 14:00:00         3.0         5.0        12.0          3.0   \n",
            "2013-03-01 14:00:00         6.0        10.0         3.0         10.0   \n",
            "\n",
            "                     PM2.5_lag24  PM2.5_ma3  PM2.5_ma6  PM2.5_ma12  \\\n",
            "datetime                                                             \n",
            "2013-03-01 13:00:00          6.0   6.000000   7.166667    6.000000   \n",
            "2013-03-01 14:00:00          3.0   6.333333   6.166667    6.250000   \n",
            "2013-03-01 14:00:00          9.0   4.000000   6.166667    5.666667   \n",
            "\n",
            "                     PM2.5_ma24  PM2.5_ma48  PM2.5_ma168  PM10_lag1  \\\n",
            "datetime                                                              \n",
            "2013-03-01 13:00:00       5.625    5.479167     5.589286       18.0   \n",
            "2013-03-01 14:00:00       5.750    5.541667     5.601190        6.0   \n",
            "2013-03-01 14:00:00       5.500    5.541667     5.583333        7.0   \n",
            "\n",
            "                     PM10_lag3  PM10_lag6  PM10_lag12  PM10_lag24   PM10_ma3  \\\n",
            "datetime                                                                       \n",
            "2013-03-01 13:00:00       34.0        6.0         6.0         6.0   9.666667   \n",
            "2013-03-01 14:00:00        5.0       14.0         6.0         6.0  10.333333   \n",
            "2013-03-01 14:00:00       18.0        6.0        19.0        19.0   9.000000   \n",
            "\n",
            "                      PM10_ma6  PM10_ma12  PM10_ma24  PM10_ma48  PM10_ma168  \\\n",
            "datetime                                                                      \n",
            "2013-03-01 13:00:00  13.833333  19.250000  13.875000  11.145833    9.119048   \n",
            "2013-03-01 14:00:00  12.666667  19.333333  13.916667  11.166667    9.136905   \n",
            "2013-03-01 14:00:00  14.000000  18.916667  13.708333  11.333333    9.184524   \n",
            "\n",
            "                     SO2_lag1  SO2_lag3  SO2_lag6  SO2_lag12  SO2_lag24  \\\n",
            "datetime                                                                  \n",
            "2013-03-01 13:00:00      10.0       7.0       5.0        7.0        3.0   \n",
            "2013-03-01 14:00:00       7.0       3.0       4.0        7.0        4.0   \n",
            "2013-03-01 14:00:00       3.0      10.0       4.0        9.0        7.0   \n",
            "\n",
            "                      SO2_ma3   SO2_ma6  SO2_ma12  SO2_ma24  SO2_ma48  \\\n",
            "datetime                                                                \n",
            "2013-03-01 13:00:00  6.666667  5.833333  5.916667  5.958333  6.395833   \n",
            "2013-03-01 14:00:00  6.666667  5.666667  5.583333  5.916667  6.395833   \n",
            "2013-03-01 14:00:00  5.666667  6.166667  5.416667  5.916667  6.354167   \n",
            "\n",
            "                     SO2_ma168  NO2_lag1  NO2_lag3  NO2_lag6  NO2_lag12  \\\n",
            "datetime                                                                  \n",
            "2013-03-01 13:00:00   7.952381      20.0      12.0      16.0       13.0   \n",
            "2013-03-01 14:00:00   7.946429      12.0       9.0      20.0        3.0   \n",
            "2013-03-01 14:00:00   7.964286      22.0      20.0      17.0       12.0   \n",
            "\n",
            "                     NO2_lag24    NO2_ma3    NO2_ma6   NO2_ma12   NO2_ma24  \\\n",
            "datetime                                                                     \n",
            "2013-03-01 13:00:00       16.0  13.666667  15.000000  11.750000  13.291667   \n",
            "2013-03-01 14:00:00       17.0  18.000000  15.333333  13.333333  13.500000   \n",
            "2013-03-01 14:00:00       16.0  14.000000  13.833333  13.000000  13.166667   \n",
            "\n",
            "                      NO2_ma48  NO2_ma168  CO_lag1  CO_lag3  CO_lag6  \\\n",
            "datetime                                                               \n",
            "2013-03-01 13:00:00  15.958333  17.559524    300.0    400.0    300.0   \n",
            "2013-03-01 14:00:00  15.958333  17.648810    400.0    300.0    300.0   \n",
            "2013-03-01 14:00:00  15.875000  17.648810    200.0    300.0    300.0   \n",
            "\n",
            "                     CO_lag12  CO_lag24      CO_ma3      CO_ma6     CO_ma12  \\\n",
            "datetime                                                                      \n",
            "2013-03-01 13:00:00     300.0     300.0  333.333333  333.333333  358.333333   \n",
            "2013-03-01 14:00:00     300.0     300.0  300.000000  316.666667  350.000000   \n",
            "2013-03-01 14:00:00     900.0     400.0  300.000000  316.666667  300.000000   \n",
            "\n",
            "                        CO_ma24     CO_ma48    CO_ma168  O3_lag1  O3_lag3  \\\n",
            "datetime                                                                    \n",
            "2013-03-01 13:00:00  350.000000  360.416667  361.309524     60.0     81.0   \n",
            "2013-03-01 14:00:00  345.833333  356.250000  360.714286     76.0     74.0   \n",
            "2013-03-01 14:00:00  341.666667  354.166667  360.714286     89.0     60.0   \n",
            "\n",
            "                     O3_lag6  O3_lag12  O3_lag24  O3_ma3     O3_ma6  \\\n",
            "datetime                                                              \n",
            "2013-03-01 13:00:00     91.0      74.0      67.0    70.0  76.000000   \n",
            "2013-03-01 14:00:00     78.0      87.0      86.0    75.0  77.833333   \n",
            "2013-03-01 14:00:00     87.0      86.0      76.0    79.0  75.333333   \n",
            "\n",
            "                       O3_ma12    O3_ma24    O3_ma48   O3_ma168  TEMP_lag1  \\\n",
            "datetime                                                                     \n",
            "2013-03-01 13:00:00  80.250000  78.875000  76.395833  70.291667        5.3   \n",
            "2013-03-01 14:00:00  80.416667  79.000000  76.916667  70.363095        5.3   \n",
            "2013-03-01 14:00:00  79.250000  78.833333  76.916667  70.309524        5.9   \n",
            "\n",
            "                     TEMP_lag3  TEMP_lag6  TEMP_lag12  TEMP_lag24  TEMP_ma3  \\\n",
            "datetime                                                                      \n",
            "2013-03-01 13:00:00        5.0        5.0         3.9         1.7  4.766667   \n",
            "2013-03-01 14:00:00        3.7        5.3         4.7         4.0  5.500000   \n",
            "2013-03-01 14:00:00        5.3        5.0         5.3         4.0  5.933333   \n",
            "\n",
            "                     TEMP_ma6  TEMP_ma12  TEMP_ma24  TEMP_ma48  TEMP_ma168  \\\n",
            "datetime                                                                     \n",
            "2013-03-01 13:00:00  4.933333   5.141667   4.604167   3.441667   -0.104762   \n",
            "2013-03-01 14:00:00  5.033333   5.241667   4.683333   3.550000   -0.065476   \n",
            "2013-03-01 14:00:00  5.300000   5.350000   4.791667   3.647917   -0.023214   \n",
            "\n",
            "                     PRES_lag1  PRES_lag3  PRES_lag6  PRES_lag12  PRES_lag24  \\\n",
            "datetime                                                                       \n",
            "2013-03-01 13:00:00     1026.2     1027.8     1027.8      1027.3      1030.9   \n",
            "2013-03-01 14:00:00     1026.2     1028.9     1026.2      1022.8      1028.6   \n",
            "2013-03-01 14:00:00     1022.6     1026.2     1027.8      1024.1      1028.6   \n",
            "\n",
            "                        PRES_ma3     PRES_ma6    PRES_ma12    PRES_ma24  \\\n",
            "datetime                                                                  \n",
            "2013-03-01 13:00:00  1027.100000  1027.183333  1025.716667  1026.216667   \n",
            "2013-03-01 14:00:00  1025.000000  1026.583333  1025.700000  1025.966667   \n",
            "2013-03-01 14:00:00  1024.566667  1026.100000  1025.766667  1025.812500   \n",
            "\n",
            "                       PRES_ma48   PRES_ma168  DEWP_lag1  DEWP_lag3  \\\n",
            "datetime                                                              \n",
            "2013-03-01 13:00:00  1027.014583  1025.798214      -19.3      -21.2   \n",
            "2013-03-01 14:00:00  1026.833333  1025.795833      -19.3      -20.6   \n",
            "2013-03-01 14:00:00  1026.764583  1025.798214      -20.5      -19.3   \n",
            "\n",
            "                     DEWP_lag6  DEWP_lag12  DEWP_lag24   DEWP_ma3   DEWP_ma6  \\\n",
            "datetime                                                                       \n",
            "2013-03-01 13:00:00      -21.2       -19.7       -21.5 -19.733333 -20.150000   \n",
            "2013-03-01 14:00:00      -19.3       -22.4       -21.2 -19.700000 -20.350000   \n",
            "2013-03-01 14:00:00      -21.2       -20.1       -21.2 -19.900000 -20.133333   \n",
            "\n",
            "                     DEWP_ma12  DEWP_ma24  DEWP_ma48  DEWP_ma168  WSPM_lag1  \\\n",
            "datetime                                                                      \n",
            "2013-03-01 13:00:00 -20.483333 -20.445833 -20.922917  -20.800595        4.3   \n",
            "2013-03-01 14:00:00 -20.325000 -20.416667 -20.900000  -20.810714        4.3   \n",
            "2013-03-01 14:00:00 -20.308333 -20.362500 -20.910417  -20.801786        3.6   \n",
            "\n",
            "                     WSPM_lag3  WSPM_lag6  WSPM_lag12  WSPM_lag24  WSPM_ma3  \\\n",
            "datetime                                                                      \n",
            "2013-03-01 13:00:00        4.5        4.5         5.1         1.4  3.566667   \n",
            "2013-03-01 14:00:00        2.1        4.3         3.3         4.6  4.066667   \n",
            "2013-03-01 14:00:00        4.3        4.5         2.7         4.6  3.333333   \n",
            "\n",
            "                     WSPM_ma6  WSPM_ma12  WSPM_ma24  WSPM_ma48  WSPM_ma168  \\\n",
            "datetime                                                                     \n",
            "2013-03-01 13:00:00  4.000000   3.866667   3.762500   3.731250    3.436905   \n",
            "2013-03-01 14:00:00  3.883333   3.891667   3.720833   3.754167    3.432143   \n",
            "2013-03-01 14:00:00  3.483333   3.841667   3.616667   3.722917    3.410714   \n",
            "\n",
            "                     hour_sin  hour_cos  month_sin     month_cos  \n",
            "datetime                                                          \n",
            "2013-03-01 13:00:00 -0.258819 -0.965926        1.0  6.123234e-17  \n",
            "2013-03-01 14:00:00 -0.500000 -0.866025        1.0  6.123234e-17  \n",
            "2013-03-01 14:00:00 -0.500000 -0.866025        1.0  6.123234e-17  \n"
          ]
        }
      ]
    }
  ]
}